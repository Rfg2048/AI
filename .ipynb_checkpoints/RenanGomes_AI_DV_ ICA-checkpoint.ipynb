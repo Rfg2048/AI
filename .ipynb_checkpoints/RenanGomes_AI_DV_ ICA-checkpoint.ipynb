{
 "cells": [
  {
   "cell_type": "markdown",
   "id": "65e96d63",
   "metadata": {},
   "source": [
    "## Variables\n",
    "\n",
    "Py = Python Programmer  \n",
    "Ai = AI Engineer  \n",
    "Wb = Web Designer  \n",
    "Db = Database Administrator  \n",
    "Se = System Engineer\n",
    "\n",
    "## Domains\n",
    "\n",
    "Py ∈ {Peter, Jane, Bruce}  \n",
    "Ai ∈ {Peter, Jim, Anita}  \n",
    "Wb ∈ {Mary, Anita}  \n",
    "Db ∈ {Jane}  \n",
    "Se ∈ {Jim, Bruce, Mary}  \n",
    "\n",
    "## Constraints\n",
    "\n",
    "[Py]2 + [Ai]3 + [Wb]1 + [Db]1 + [Se]1 = 4"
   ]
  },
  {
   "cell_type": "code",
   "execution_count": 6,
   "id": "1a05503d",
   "metadata": {},
   "outputs": [],
   "source": [
    "import csp\n",
    "from csp import Constraint, CSP\n",
    "from typing import Dict, List"
   ]
  },
  {
   "cell_type": "code",
   "execution_count": 7,
   "id": "d803c290",
   "metadata": {},
   "outputs": [],
   "source": [
    "#The class for hiring constraints \n",
    "class HireConstraint(Constraint[str, str]):\n",
    "    def __init__(self, roles: Dict[str, List[str]]) -> None:\n",
    "        super().__init__(list(roles.keys()))\n",
    "        self.roles = roles\n",
    "        \n",
    "    def satisfied(self, assignment: Dict[str, str]) -> Tuple[bool, Dict[str,int]]:\n",
    "        #Initialization of the counter for the roles\n",
    "        py_count = 0\n",
    "        ai_count = 0\n",
    "        wb_count = 0\n",
    "        db_count = 0\n",
    "        se_count = 0\n",
    "        \n",
    "        #Counts the people assigned to the roles\n",
    "        for person, role in assignment.items():\n",
    "            if role == \"Py\":\n",
    "                py_count += 1\n",
    "            elif role == \"Ai\":\n",
    "                ai_count += 1\n",
    "            elif role == \"Wb\":\n",
    "                wb_count += 1\n",
    "            elif role == \"Db\":\n",
    "                db_count += 1\n",
    "            elif role == \"Se\":\n",
    "                se_count += 1\n",
    "        \n",
    "        #Check the constraint\n",
    "        result = (\n",
    "            py_count == 2\n",
    "            and ai_count == 3\n",
    "            and wb_count == 1\n",
    "            and db_count == 1\n",
    "            and se_count == 1\n",
    "            and len(assignment) == 4\n",
    "        )\n",
    "        \n",
    "        #Store in Dict the counts for each role\n",
    "        counts = {\n",
    "            \"Py\": py_count,\n",
    "            \"Ai\": ai_count,\n",
    "            \"Wb\": wb_count,\n",
    "            \"Db\": db_count,\n",
    "            \"Se\": se_count,\n",
    "        }\n",
    "        \n",
    "        return result, counts"
   ]
  },
  {
   "cell_type": "code",
   "execution_count": 8,
   "id": "66a523cf",
   "metadata": {
    "scrolled": true
   },
   "outputs": [
    {
     "name": "stdout",
     "output_type": "stream",
     "text": [
      "{'Py': 'Peter', 'Ai': 'Peter', 'Wb': 'Anita', 'Db': 'Jane', 'Se': 'Jim'}\n"
     ]
    }
   ],
   "source": [
    "if __name__ == \"__main__\":\n",
    "    #Domains for each role\n",
    "    roles = {\n",
    "        \"Py\": [\"Peter\", \"Jane\", \"Bruce\"],\n",
    "        \"Ai\": [\"Peter\", \"Jim\", \"Anita\"],\n",
    "        \"Wb\": [\"Anita\", \"Mary\"],\n",
    "        \"Db\": [\"Jane\"],\n",
    "        \"Se\": [\"Jim\", \"Bruce\", \"Mary\"],\n",
    "    }\n",
    "\n",
    "    #Py ∈ {Peter, Jane, Bruce}\n",
    "    #Ai ∈ {Peter, Jim, Anita}\n",
    "    #Wb ∈ {Mary, Anita}\n",
    "    #Db ∈ {Jane}\n",
    "    #Se ∈ {Jim, Bruce, Mary}\n",
    "    \n",
    "    #CSP Instance with roles and domains\n",
    "    csp = CSP(list(roles.keys()), roles)\n",
    "    csp.add_constraint(HireConstraint(roles))\n",
    "    \n",
    "    #Applying backtracking search algorithm to find a solution satisfying the constraints\n",
    "    \n",
    "    solution =  csp.backtracking_search()\n",
    "        \n",
    "    print(solution)"
   ]
  },
  {
   "cell_type": "code",
   "execution_count": null,
   "id": "5892a5d8",
   "metadata": {},
   "outputs": [],
   "source": [
    "def greedy_imp(roles: Dict[str, List[str]]) -> Dict[str, str]:\n",
    "    \n",
    "    assignment = {}\n",
    "    hired_ppl = set{}\n",
    "    \n",
    "    roles_prio = [\"Py\"]"
   ]
  }
 ],
 "metadata": {
  "kernelspec": {
   "display_name": "Python 3 (ipykernel)",
   "language": "python",
   "name": "python3"
  },
  "language_info": {
   "codemirror_mode": {
    "name": "ipython",
    "version": 3
   },
   "file_extension": ".py",
   "mimetype": "text/x-python",
   "name": "python",
   "nbconvert_exporter": "python",
   "pygments_lexer": "ipython3",
   "version": "3.9.12"
  }
 },
 "nbformat": 4,
 "nbformat_minor": 5
}
