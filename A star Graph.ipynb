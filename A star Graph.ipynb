{
 "cells": [
  {
   "cell_type": "code",
   "execution_count": 89,
   "metadata": {},
   "outputs": [],
   "source": [
    "from collections import deque\n",
    "\n",
    "class Graph:\n",
    "    # example of adjacency list (or rather map)\n",
    "    # adjacency_list = {\n",
    "    # 'A': [('B', 1), ('C', 3), ('D', 7)],\n",
    "    # 'B': [('D', 5)],\n",
    "    # 'C': [('D', 12)]\n",
    "    # }\n",
    "\n",
    "    def __init__(self, adjacency_list):\n",
    "        self.adjacency_list = adjacency_list\n",
    "\n",
    "    def get_neighbors(self, v):\n",
    "        return self.adjacency_list[v]\n",
    "\n",
    "    # heuristic function with equal values for all nodes\n",
    "    # Hmm is distance from craiova to Destinations in milimeters based on the estimation that 45mm equals to 99 miles\n",
    "        Hmm = {\n",
    "        'Arad': 117,\n",
    "        'Bucharest': 70,\n",
    "        'Craiova': 0,\n",
    "        'Drobeta': 43,\n",
    "        'Eforie': 135,\n",
    "        'Fagaras': 74,\n",
    "        'Giurgiu': 53,\n",
    "        'Hirsova': 127,\n",
    "        'Iasi': 140,\n",
    "        'Lugoj': 57,\n",
    "        'Mehadia': 41,\n",
    "        'Neamt': 130,\n",
    "        'Oradea': 142,\n",
    "        'Pitesti': 50,\n",
    "        'Rimniciu_Vilcea': 69,\n",
    "        'Sibiu': 89,\n",
    "        'Timisoara': 92,\n",
    "        'Urzicene': 95,\n",
    "        'Vaslui': 134,\n",
    "        'Zerind': 127\n",
    "        }\n",
    "    \n",
    "    def h(self, n):\n",
    "    #Heuristic will be values taken from milimeters multiplied by 2.2 which will give the conversion of distance in miles\n",
    "        H = {key: round(value * 2.22, 1) for key, value in Hmm.items()}\n",
    "        return H[n]\n",
    "\n",
    "    def a_star_algorithm(self, start_node, stop_node):\n",
    "        # open_list is a list of nodes which have been visited, but who's neighbors\n",
    "        # haven't all been inspected, starts off with the start node\n",
    "        # closed_list is a list of nodes which have been visited\n",
    "        # and who's neighbors have been inspected\n",
    "        open_list = set([start_node])\n",
    "        closed_list = set([])\n",
    "\n",
    "        # g contains current distances from start_node to all other nodes\n",
    "        # the default value (if it's not found in the map) is +infinity\n",
    "        g = {}\n",
    "\n",
    "        g[start_node] = 0\n",
    "\n",
    "        # parents contains an adjacency map of all nodes\n",
    "        parents = {}\n",
    "        parents[start_node] = start_node\n",
    "\n",
    "        while len(open_list) > 0:\n",
    "            n = None\n",
    "\n",
    "            # find a node with the lowest value of f() - evaluation function\n",
    "            for v in open_list:\n",
    "                if n == None or g[v] + self.h(v) < g[n] + self.h(n):\n",
    "                    n = v;\n",
    "\n",
    "            if n == None:\n",
    "                print('Path does not exist!')\n",
    "                return None\n",
    "\n",
    "            # if the current node is the stop_node\n",
    "            # then we begin reconstructin the path from it to the start_node\n",
    "            if n == stop_node:\n",
    "                reconst_path = []\n",
    "\n",
    "                while parents[n] != n:\n",
    "                    reconst_path.append(n)\n",
    "                    n = parents[n]\n",
    "\n",
    "                reconst_path.append(start_node)\n",
    "\n",
    "                reconst_path.reverse()\n",
    "\n",
    "                print('Path found: {}'.format(reconst_path))\n",
    "                return reconst_path\n",
    "\n",
    "            # for all neighbors of the current node do\n",
    "            for (m, weight) in self.get_neighbors(n):\n",
    "                # if the current node isn't in both open_list and closed_list\n",
    "                # add it to open_list and note n as it's parent\n",
    "                if m not in open_list and m not in closed_list:\n",
    "                    open_list.add(m)\n",
    "                    parents[m] = n\n",
    "                    g[m] = g[n] + weight\n",
    "\n",
    "                # otherwise, check if it's quicker to first visit n, then m\n",
    "                # and if it is, update parent data and g data\n",
    "                # and if the node was in the closed_list, move it to open_list\n",
    "                else:\n",
    "                    if g[m] > g[n] + weight:\n",
    "                        g[m] = g[n] + weight\n",
    "                        parents[m] = n\n",
    "\n",
    "                        if m in closed_list:\n",
    "                            closed_list.remove(m)\n",
    "                            open_list.add(m)\n",
    "\n",
    "            # remove n from the open_list, and add it to closed_list\n",
    "            # because all of his neighbors were inspected\n",
    "            open_list.remove(n)\n",
    "            closed_list.add(n)\n",
    "\n",
    "        print('Path does not exist!')\n",
    "        return None"
   ]
  },
  {
   "cell_type": "code",
   "execution_count": 90,
   "metadata": {},
   "outputs": [],
   "source": [
    "#H1 = {key: round(value * 2.22, 1) for key, value in Hmm.items()}"
   ]
  },
  {
   "cell_type": "code",
   "execution_count": 91,
   "metadata": {},
   "outputs": [],
   "source": [
    "#list(H1.items())[6]"
   ]
  },
  {
   "cell_type": "markdown",
   "metadata": {},
   "source": [
    "Exersize Problem"
   ]
  },
  {
   "cell_type": "code",
   "execution_count": 96,
   "metadata": {},
   "outputs": [],
   "source": [
    "Romania_list = {\n",
    "    'Oradea':[('Zerind', 71),('Sibiu', 151)],\n",
    "    'Zerind':[('Oradea', 71),('Arad', 75)],\n",
    "    'Arad':[('Zerind', 75),('Sibiu', 140),('Timisoara', 118)],\n",
    "    'Timisoara':[('Arad', 118),('Lugoj', 111)],\n",
    "    'Lugoj':[('Mehadia', 70),('Timisoara', 111)],\n",
    "    'Mehadia':[('Drobeta', 75),('Lugoj', 70)],\n",
    "    'Drobeta':[('Mehadia', 75),('Craiova', 120)],\n",
    "    'Sibiu':[('Oradea', 151),('Fagaras', 99),('Rimniciu_Vilcea', 80),('Arad', 140)],\n",
    "    'Rimniciu_Vilcea':[('Sibiu', 80),('Craiova', 146),('Pitesti', 97)],\n",
    "    'Craiova':[('Drobeta', 120),('Rimniciu_Vilcea', 146),('Pitesti', 138)],\n",
    "    'Fagaras':[('Sibiu', 99),('Bucharest', 211)],\n",
    "    'Pitesti':[('Rimniciu_Vilcea', 97),('Bucharest', 101),('Craiova', 138)],\n",
    "    'Bucharest':[('Fagaras', 211),('Pitesti', 101),('Giurgiu', 90),('Urzicene', 85)],\n",
    "    'Giurgiu':[('Bucharest', 90)],\n",
    "    'Urzicene':[('Bucharest', 85),('Hirsova', 98),('Vaslui', 142)],\n",
    "    'Neamt':[('Iasi', 87)],\n",
    "    'Iasi':[('Neamt', 87),('Vaslui', 92)],\n",
    "    'Vaslui':[('Iasi', 92),('Urzicene', 142)],\n",
    "    'Hirsova':[('Urzicene', 98),('Eforie', 86)],\n",
    "    'Eforie':[('Hirsova', 86)]\n",
    "    \n",
    "}"
   ]
  },
  {
   "cell_type": "code",
   "execution_count": 97,
   "metadata": {},
   "outputs": [
    {
     "name": "stdout",
     "output_type": "stream",
     "text": [
      "Path found: ['Craiova', 'Rimniciu_Vilcea', 'Sibiu', 'Fagaras']\n"
     ]
    },
    {
     "data": {
      "text/plain": [
       "['Craiova', 'Rimniciu_Vilcea', 'Sibiu', 'Fagaras']"
      ]
     },
     "execution_count": 97,
     "metadata": {},
     "output_type": "execute_result"
    }
   ],
   "source": [
    "graph2 = Graph(Romania_list)\n",
    "graph2.a_star_algorithm('Craiova', 'Fagaras')"
   ]
  },
  {
   "cell_type": "markdown",
   "metadata": {},
   "source": [
    "Path found: ['Craiova', 'Rimniciu_Vilcea', 'Sibiu', 'Fagaras']\n",
    "['Craiova', 'Rimniciu_Vilcea', 'Sibiu', 'Fagaras']"
   ]
  },
  {
   "cell_type": "code",
   "execution_count": null,
   "metadata": {},
   "outputs": [],
   "source": []
  }
 ],
 "metadata": {
  "kernelspec": {
   "display_name": "Python 3 (ipykernel)",
   "language": "python",
   "name": "python3"
  },
  "language_info": {
   "codemirror_mode": {
    "name": "ipython",
    "version": 3
   },
   "file_extension": ".py",
   "mimetype": "text/x-python",
   "name": "python",
   "nbconvert_exporter": "python",
   "pygments_lexer": "ipython3",
   "version": "3.9.12"
  }
 },
 "nbformat": 4,
 "nbformat_minor": 4
}
