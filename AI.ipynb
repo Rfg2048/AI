{
 "cells": [
  {
   "cell_type": "markdown",
   "id": "a003764f",
   "metadata": {},
   "source": [
    "## AI CA"
   ]
  },
  {
   "cell_type": "markdown",
   "id": "fc808382",
   "metadata": {},
   "source": [
    "GitHub - https://github.com/Rfg2048/AI"
   ]
  },
  {
   "cell_type": "markdown",
   "id": "790ed248",
   "metadata": {},
   "source": [
    "## A1 - Identify the differences between a graph and a tree."
   ]
  },
  {
   "cell_type": "markdown",
   "id": "319837b4",
   "metadata": {},
   "source": [
    "According to Cambridge Dictionary a graph is a picture that shows  how two sets of information or variables are related, usually by lines or curves, and a tree diagram shows the relationships between different pieces of information using lines that are connected and have different branches.\n",
    "\n",
    "One of the main differences between graph and tree is the structure cycle, while graph can be connnected or disconnected, have cycles or loops and doesn't necessarily have a root node, the tree structure cycle relies on a single root node which is connected and acyclic (graph with no graph cycles).\n",
    "\n",
    "While a graph can havy any number of edges directed or undirected, trees may only have $n$ being nodes, $n-1$ number of edges and they are always directed. Graphs are used normally to model complex systems or relationships, like social networks or computer networks. Trees are used to represent data with hierachy structure, such as dile systems pr organization charts.\n",
    "\n"
   ]
  },
  {
   "cell_type": "markdown",
   "id": "be26eeda",
   "metadata": {},
   "source": [
    "## A2 - Explain in detail how the graph is an abstraction of the problem."
   ]
  },
  {
   "cell_type": "markdown",
   "id": "dbbb7c49",
   "metadata": {},
   "source": [
    "The graph is an abstraction of the problem in this case to model and analyze the routes and paths in a visual manner by using the nodes and edges to be each possible stage that can be reached, node A being starting point and node S being the end goal, its visible that there are many different paths and judging by the weight which is some sort of cost, better routes can be drawn and followed, once the fastest route, which would be the lower number path or the most point rewarding route, the path that adds more, are chosen they can be easily followed.\n",
    "\n",
    "The graph provides a structured abstraction of the problem, in other words a feasible abstraction easy on the eyes."
   ]
  },
  {
   "cell_type": "markdown",
   "id": "f3169278",
   "metadata": {},
   "source": [
    "## A3 - Identify the advantages of using a visualisation such as the one shown"
   ]
  },
  {
   "cell_type": "markdown",
   "id": "7ee96bf4",
   "metadata": {},
   "source": [
    "There are many advantages by using a visual display of the information provided, such as easy understanding, by showing intuitive representation of the data that may or may not be complex, another advantage is the pathfiding, which in this case is the main goal of the graph, to arrive from point A to point S effectively and efficiently, another great advantage is the presentation, by visualization it gets easy to explain and present data regardless of its complexity, which can be filtered and broken down accordingly.\n",
    "\n",
    "To summarize, visualization is a powerful tool for problem solving, data analysis and decision-making, they can improve understanding  and help with decisions from the insight given."
   ]
  },
  {
   "cell_type": "code",
   "execution_count": 105,
   "id": "aa8fe1b8",
   "metadata": {},
   "outputs": [],
   "source": [
    "import heapq\n",
    "\n",
    "\n",
    "def calculate_distances(graph, starting_vertex):\n",
    "    distances = {vertex: float('infinity') for vertex in graph}\n",
    "    distances[starting_vertex] = 0\n",
    "\n",
    "    pq = [(0, starting_vertex)]\n",
    "    while len(pq) > 0:\n",
    "        current_distance, current_vertex = heapq.heappop(pq)\n",
    "\n",
    "        # Nodes can get added to the priority queue multiple times. We only\n",
    "        # process a vertex the first time we remove it from the priority queue.\n",
    "        if current_distance > distances[current_vertex]:\n",
    "            continue\n",
    "\n",
    "        for neighbor, weight in graph[current_vertex].items():\n",
    "            distance = current_distance + weight\n",
    "\n",
    "            # Only consider this new path if it's better than any path we've\n",
    "            # already found.\n",
    "            if distance < distances[neighbor]:\n",
    "                distances[neighbor] = distance\n",
    "                heapq.heappush(pq, (distance, neighbor))\n",
    "\n",
    "    return distances\n",
    "\n",
    "#Line of code provided in-class called Dijkstra's Algorithm used to determine the shortest path"
   ]
  },
  {
   "cell_type": "code",
   "execution_count": 106,
   "id": "83c0045d",
   "metadata": {},
   "outputs": [],
   "source": [
    "fig1_graph = {\n",
    "    'A': {'B': 1, 'C': 5, 'H': 2},\n",
    "    'B': {'A': 1, 'C': 2, 'D': 4},\n",
    "    'C': {'A': 5, 'B': 2, 'G': 1},\n",
    "    'D': {'B': 4, 'E': 4, 'F': 7},\n",
    "    'E': {'D': 4, 'F': 3, 'W': 6},\n",
    "    'F': {'D': 7, 'E': 3, 'G': 2},\n",
    "    'G': {'C': 1, 'F': 2, 'L': 3},\n",
    "    'H': {'A': 2, 'J': 9, 'K': 5},\n",
    "    'J': {'H': 9, 'K': 3, 'N': 6},\n",
    "    'K': {'H': 5, 'J': 3, 'L': 5},\n",
    "    'L': {'D': 7, 'G': 3, 'K': 5, 'N': 3, 'V': 10, 'W': 8},\n",
    "    'M': {'L': 4, 'P': 2, 'Q': 10},\n",
    "    'N': {'J': 6, 'L': 3, 'P': 4, 'S': 7},\n",
    "    'P': {'M': 2, 'N': 4, 'R': 5},\n",
    "    'Q': {'M': 10, 'S': 8, 'W': 4},\n",
    "    'R': {'P': 5, 'S': 4, 'T': 3},\n",
    "    'S': {'N': 7, 'Q': 8, 'R': 4, 'T': 4, 'U': 2, 'V': 6},\n",
    "    'T': {'R': 3, 'S': 4, 'U': 1},\n",
    "    'U': {'S': 2, 'T': 1, 'V': 3},\n",
    "    'V': {'L': 10, 'S': 6, 'U': 3, 'W': 5},\n",
    "    'W': {'E': 6, 'L': 8, 'Q': 4, 'V': 5},\n",
    " }"
   ]
  },
  {
   "cell_type": "code",
   "execution_count": 151,
   "id": "b5484715",
   "metadata": {},
   "outputs": [],
   "source": [
    "import networkx as nx\n",
    "import matplotlib.pyplot as plt\n",
    "\n",
    "graph = nx.Graph()\n",
    "\n",
    "#loop to create nodes and edges\n",
    "for node, neighbors in fig1_graph.items():\n",
    "    graph.add_node(node)\n",
    "    for neighbor, weight in neighbors.items():\n",
    "        graph.add_edge(node, neighbor, weight=weight)\n",
    "\n",
    "#Setting fixed position for the nodes to create a replica of figure given\n",
    "\n",
    "fix_node_position = {\n",
    "    'A': (-0.6,1.2),\n",
    "    'B':(-0.9,-0.8),\n",
    "    'C':(0.4,0),\n",
    "    'D':(-0.8,-5),\n",
    "    'E':(0.7,-6.8),\n",
    "    'F':(0.6, -4.5),\n",
    "    'G':(0.5,-2.2),\n",
    "    'H':(0.3,2.7),\n",
    "    'J':(3.2,3),\n",
    "    'K':(1.5,1.5),\n",
    "    'L':(3,0),\n",
    "    'N':(4.9,1.7),\n",
    "    'M':(4.7,-1.5),\n",
    "    'P':(6.7,-1),\n",
    "    'Q':(4,-5),\n",
    "    'R':(6.9,-4.5),\n",
    "    'S':(5.3,-7),\n",
    "    'T':(7,-8),\n",
    "    'U':(5.3,-10),\n",
    "    'V':(4,-9),\n",
    "    'W':(2.7,-7.6)\n",
    "}\n",
    "\n",
    "pos = fix_node_position\n",
    "\n",
    "node_label = {node: node for node in graph.nodes()}\n",
    "\n",
    "edge_label = {(u,v): d['weight'] for u,v,d in graph.edges(data=True)}\n",
    "\n",
    "def draw_graph(graph, pos, node_label, edge_label, edge_colors):\n",
    "    \n",
    "    plt.figure(figsize=(10,10))\n",
    "    \n",
    "    #Drawing nodes and edges with letters and weight using networkx library\n",
    "    nx.draw_networkx_nodes(graph, pos, node_size=500, node_color = \"#64b3b7\")\n",
    "    nx.draw_networkx_edges(graph,pos, edge_color=edge_colors, width=2)\n",
    "    nx.draw_networkx_labels(graph, pos, labels=node_label, font_color=\"#d7d87b\", font_weight=\"bold\")\n",
    "    nx.draw_networkx_edge_labels(graph, pos, edge_labels=edge_label)\n",
    "\n",
    "    plt.axis('off')\n",
    "    plt.show()"
   ]
  },
  {
   "cell_type": "code",
   "execution_count": 152,
   "id": "f6d555bd",
   "metadata": {},
   "outputs": [
    {
     "name": "stdout",
     "output_type": "stream",
     "text": [
      "{'A': 0, 'B': 1, 'C': 3, 'D': 5, 'E': 9, 'F': 6, 'G': 4, 'H': 2, 'J': 10, 'K': 7, 'L': 7, 'M': 16, 'N': 10, 'P': 14, 'Q': 19, 'R': 19, 'S': 17, 'T': 20, 'U': 19, 'V': 17, 'W': 15}\n"
     ]
    }
   ],
   "source": [
    "print(calculate_distances(fig1_graph,'A'))"
   ]
  },
  {
   "cell_type": "markdown",
   "id": "b6a03701",
   "metadata": {},
   "source": [
    "From the output, using Dijkstra's algorithm it displays the shortest distance to every node in the graph, but in the scenario given the goal is to reach to the solution (Node S) which is 17.\n",
    "\n",
    "1- To break down the path chosen using Dijkstra's algorithm, first step from A is to find shortest route, which in this case is A to B with the value of 1."
   ]
  },
  {
   "cell_type": "code",
   "execution_count": 159,
   "id": "8fa19d1e",
   "metadata": {},
   "outputs": [
    {
     "ename": "TypeError",
     "evalue": "unsupported operand type(s) for &: 'tuple' and 'tuple'",
     "output_type": "error",
     "traceback": [
      "\u001b[1;31m---------------------------------------------------------------------------\u001b[0m",
      "\u001b[1;31mTypeError\u001b[0m                                 Traceback (most recent call last)",
      "Input \u001b[1;32mIn [159]\u001b[0m, in \u001b[0;36m<cell line: 1>\u001b[1;34m()\u001b[0m\n\u001b[1;32m----> 1\u001b[0m edge_colors\u001b[38;5;241m=\u001b[39m[\u001b[38;5;124m\"\u001b[39m\u001b[38;5;124mred\u001b[39m\u001b[38;5;124m\"\u001b[39m \u001b[38;5;28;01mif\u001b[39;00m ((u,v) \u001b[38;5;241m==\u001b[39m (\u001b[38;5;124m'\u001b[39m\u001b[38;5;124mA\u001b[39m\u001b[38;5;124m'\u001b[39m,\u001b[38;5;124m'\u001b[39m\u001b[38;5;124mB\u001b[39m\u001b[38;5;124m'\u001b[39m) \u001b[38;5;241m&\u001b[39m (u,v) \u001b[38;5;241m==\u001b[39m (\u001b[38;5;124m'\u001b[39m\u001b[38;5;124mB\u001b[39m\u001b[38;5;124m'\u001b[39m,\u001b[38;5;124m'\u001b[39m\u001b[38;5;124mD\u001b[39m\u001b[38;5;124m'\u001b[39m)) \u001b[38;5;28;01melse\u001b[39;00m \u001b[38;5;124m\"\u001b[39m\u001b[38;5;124m#bfb5be\u001b[39m\u001b[38;5;124m\"\u001b[39m \u001b[38;5;28;01mfor\u001b[39;00m u,v \u001b[38;5;129;01min\u001b[39;00m graph\u001b[38;5;241m.\u001b[39medges()]\n\u001b[0;32m      2\u001b[0m draw_graph(graph, pos, node_label, edge_label, edge_colors)\n",
      "Input \u001b[1;32mIn [159]\u001b[0m, in \u001b[0;36m<listcomp>\u001b[1;34m(.0)\u001b[0m\n\u001b[1;32m----> 1\u001b[0m edge_colors\u001b[38;5;241m=\u001b[39m[\u001b[38;5;124m\"\u001b[39m\u001b[38;5;124mred\u001b[39m\u001b[38;5;124m\"\u001b[39m \u001b[38;5;28;01mif\u001b[39;00m ((u,v) \u001b[38;5;241m==\u001b[39m \u001b[43m(\u001b[49m\u001b[38;5;124;43m'\u001b[39;49m\u001b[38;5;124;43mA\u001b[39;49m\u001b[38;5;124;43m'\u001b[39;49m\u001b[43m,\u001b[49m\u001b[38;5;124;43m'\u001b[39;49m\u001b[38;5;124;43mB\u001b[39;49m\u001b[38;5;124;43m'\u001b[39;49m\u001b[43m)\u001b[49m\u001b[43m \u001b[49m\u001b[38;5;241;43m&\u001b[39;49m\u001b[43m \u001b[49m\u001b[43m(\u001b[49m\u001b[43mu\u001b[49m\u001b[43m,\u001b[49m\u001b[43mv\u001b[49m\u001b[43m)\u001b[49m \u001b[38;5;241m==\u001b[39m (\u001b[38;5;124m'\u001b[39m\u001b[38;5;124mB\u001b[39m\u001b[38;5;124m'\u001b[39m,\u001b[38;5;124m'\u001b[39m\u001b[38;5;124mD\u001b[39m\u001b[38;5;124m'\u001b[39m)) \u001b[38;5;28;01melse\u001b[39;00m \u001b[38;5;124m\"\u001b[39m\u001b[38;5;124m#bfb5be\u001b[39m\u001b[38;5;124m\"\u001b[39m \u001b[38;5;28;01mfor\u001b[39;00m u,v \u001b[38;5;129;01min\u001b[39;00m graph\u001b[38;5;241m.\u001b[39medges()]\n\u001b[0;32m      2\u001b[0m draw_graph(graph, pos, node_label, edge_label, edge_colors)\n",
      "\u001b[1;31mTypeError\u001b[0m: unsupported operand type(s) for &: 'tuple' and 'tuple'"
     ]
    }
   ],
   "source": [
    "edge_colors=[\"red\" if ((u,v) == ('A','B') & (u,v) == ('B','D')) else \"#bfb5be\" for u,v in graph.edges()]\n",
    "draw_graph(graph, pos, node_label, edge_label, edge_colors)"
   ]
  },
  {
   "cell_type": "markdown",
   "id": "e02fb839",
   "metadata": {},
   "source": [
    "## References\n",
    "\n",
    "GeekforGeeks(2023)'Graph Data Structure And Algorithms' Available at: https://www.geeksforgeeks.org/graph-data-structure-and-algorithms/?ref=lbp (Accessed: 22 October 2023).\n",
    "\n",
    "Tableau(2003-2023)'What Is Data Visualization? Definition, Examples, And Learning Resources' Available at: https://www.tableau.com/learn/articles/data-visualization (Accessed: 22 October 2023).\n",
    "\n",
    "Cambridge Dictionaty(2023) Available at: https://dictionary.cambridge.org/ (Accessed: 22 October 2023).\n",
    "\n",
    "Matplotlib(2012-2023)'Matplotlib 3.8.0 documentation' Available at: https://matplotlib.org/stable/ (Accessed: 22 October 2023).\n",
    "\n",
    "Aric A. Hagberg, Daniel A. Schult and Pieter J. Swart, “Exploring network structure, dynamics, and function using NetworkX”, in Proceedings of the 7th Python in Science Conference (SciPy2008), Gäel Varoquaux, Travis Vaught, and Jarrod Millman (Eds), (Pasadena, CA USA), pp. 11–15, Aug 2008\n",
    "\n",
    "TechTarget(1999-2023)'Data Visualization' Available at: https://www.techtarget.com/searchbusinessanalytics/resources/Data-visualization (Accessed: 25 October 2023)."
   ]
  },
  {
   "cell_type": "code",
   "execution_count": null,
   "id": "88c9d50a",
   "metadata": {},
   "outputs": [],
   "source": []
  }
 ],
 "metadata": {
  "kernelspec": {
   "display_name": "Python 3 (ipykernel)",
   "language": "python",
   "name": "python3"
  },
  "language_info": {
   "codemirror_mode": {
    "name": "ipython",
    "version": 3
   },
   "file_extension": ".py",
   "mimetype": "text/x-python",
   "name": "python",
   "nbconvert_exporter": "python",
   "pygments_lexer": "ipython3",
   "version": "3.9.12"
  }
 },
 "nbformat": 4,
 "nbformat_minor": 5
}
