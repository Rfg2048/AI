{
 "cells": [
  {
   "cell_type": "markdown",
   "id": "a003764f",
   "metadata": {},
   "source": [
    "## AI CA"
   ]
  },
  {
   "cell_type": "markdown",
   "id": "fc808382",
   "metadata": {},
   "source": [
    "GitHub - https://github.com/Rfg2048/AI"
   ]
  },
  {
   "cell_type": "markdown",
   "id": "790ed248",
   "metadata": {},
   "source": [
    "## A1 - Identify the differences between a graph and a tree."
   ]
  },
  {
   "cell_type": "markdown",
   "id": "319837b4",
   "metadata": {},
   "source": [
    "According to Cambridge Dictionary a graph is a picture that shows  how two sets of information or variables are related, usually by lines or curves, and a tree diagram shows the relationships between different pieces of information using lines that are connected and have different branches.\n",
    "\n",
    "One of the main differences between graph and tree is the structure cycle, while graph can be connnected or disconnected, have cycles or loops and doesn't necessarily have a root node, the tree structure cycle relies on a single root node which is connected and acyclic (graph with no graph cycles).\n",
    "\n",
    "While a graph can havy any number of edges directed or undirected, trees may only have N being nodes, N-1 number of edges and they are always directed. Graphs are used normally to model complex systems or relationships, like social networks or computer networks. Trees are used to represent data with hierachy structure, such as dile systems pr organization charts.\n",
    "\n"
   ]
  },
  {
   "cell_type": "markdown",
   "id": "be26eeda",
   "metadata": {},
   "source": [
    "## A2 - Explain in detail how the graph is an abstraction of the problem."
   ]
  },
  {
   "cell_type": "code",
   "execution_count": 2,
   "id": "aa8fe1b8",
   "metadata": {},
   "outputs": [],
   "source": [
    "import heapq\n",
    "\n",
    "\n",
    "def calculate_distances(graph, starting_vertex):\n",
    "    distances = {vertex: float('infinity') for vertex in graph}\n",
    "    distances[starting_vertex] = 0\n",
    "\n",
    "    pq = [(0, starting_vertex)]\n",
    "    while len(pq) > 0:\n",
    "        current_distance, current_vertex = heapq.heappop(pq)\n",
    "\n",
    "        # Nodes can get added to the priority queue multiple times. We only\n",
    "        # process a vertex the first time we remove it from the priority queue.\n",
    "        if current_distance > distances[current_vertex]:\n",
    "            continue\n",
    "\n",
    "        for neighbor, weight in graph[current_vertex].items():\n",
    "            distance = current_distance + weight\n",
    "\n",
    "            # Only consider this new path if it's better than any path we've\n",
    "            # already found.\n",
    "            if distance < distances[neighbor]:\n",
    "                distances[neighbor] = distance\n",
    "                heapq.heappush(pq, (distance, neighbor))\n",
    "\n",
    "    return distances\n",
    "\n",
    "#Line of code provided in-class called Dijkstra's Algorithm used to determine the shortest path"
   ]
  },
  {
   "cell_type": "code",
   "execution_count": 3,
   "id": "83c0045d",
   "metadata": {},
   "outputs": [],
   "source": [
    "fig1_graph = {\n",
    "    'A': {'B': 1, 'C': 5, 'H': 2},\n",
    "    'B': {'A': 1, 'C': 2, 'D': 4},\n",
    "    'C': {'A': 5, 'B': 2, 'G': 1},\n",
    "    'D': {'B': 4, 'E': 4, 'F': 7},\n",
    "    'E': {'D': 4, 'F': 3, 'W': 6},\n",
    "    'F': {'D': 7, 'E': 3, 'G': 2},\n",
    "    'G': {'C': 1, 'F': 2, 'L': 3},\n",
    "    'H': {'A': 2, 'J': 9, 'K': 5},\n",
    "    'J': {'H': 9, 'K': 3, 'N': 6},\n",
    "    'K': {'H': 5, 'J': 3, 'L': 5},\n",
    "    'L': {'D': 7, 'G': 3, 'K': 5, 'N': 3, 'V': 10, 'W': 8},\n",
    "    'M': {'L': 4, 'P': 2, 'Q': 10},\n",
    "    'N': {'J': 6, 'L': 3, 'P': 4, 'S': 7},\n",
    "    'P': {'M': 2, 'N': 4, 'R': 5},\n",
    "    'Q': {'M': 10, 'S': 8, 'W': 4},\n",
    "    'R': {'P': 5, 'S': 4, 'T': 3},\n",
    "    'S': {'Q': 8, 'R': 4, 'T': 4, 'U': 2, 'V': 6},\n",
    "    'T': {'R': 3, 'S': 4, 'U': 1},\n",
    "    'U': {'S': 2, 'T': 1, 'V': 3},\n",
    "    'V': {'L': 10, 'S': 6, 'U': 3, 'W': 5},\n",
    "    'W': {'E': 6, 'L': 8, 'Q': 4, 'V': 5},\n",
    " }"
   ]
  },
  {
   "cell_type": "markdown",
   "id": "e02fb839",
   "metadata": {},
   "source": [
    "## References\n",
    "\n",
    "https://www.geeksforgeeks.org/\n",
    "\n",
    "https://www.tableau.com/\n",
    "\n",
    "https://dictionary.cambridge.org/"
   ]
  },
  {
   "cell_type": "code",
   "execution_count": null,
   "id": "88c9d50a",
   "metadata": {},
   "outputs": [],
   "source": []
  }
 ],
 "metadata": {
  "kernelspec": {
   "display_name": "Python 3 (ipykernel)",
   "language": "python",
   "name": "python3"
  },
  "language_info": {
   "codemirror_mode": {
    "name": "ipython",
    "version": 3
   },
   "file_extension": ".py",
   "mimetype": "text/x-python",
   "name": "python",
   "nbconvert_exporter": "python",
   "pygments_lexer": "ipython3",
   "version": "3.9.12"
  }
 },
 "nbformat": 4,
 "nbformat_minor": 5
}
