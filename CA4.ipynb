{
 "cells": [
  {
   "cell_type": "markdown",
   "id": "65e96d63",
   "metadata": {},
   "source": [
    "## Variables\n",
    "\n",
    "Py = Python Programmer  \n",
    "Ai = AI Engineer  \n",
    "Wb = Web Designer  \n",
    "Db = Database Administrator  \n",
    "Se = System Engineer\n",
    "\n",
    "## Domains\n",
    "\n",
    "Py ∈ {Peter, Jane, Bruce}  \n",
    "Ai ∈ {Peter, Jim, Anita}  \n",
    "Wb ∈ {Mary, Anita}  \n",
    "Db ∈ {Jane}  \n",
    "Se ∈ {Jim, Bruce, Mary}  \n",
    "\n",
    "## Constraints\n",
    "\n",
    "[Py]2 + [Ai]3 + [Wb]1 + [Db]1 + [Se]1 = 4"
   ]
  },
  {
   "cell_type": "code",
   "execution_count": 3,
   "id": "1a05503d",
   "metadata": {},
   "outputs": [],
   "source": [
    "import csp\n",
    "from csp import Constraint, CSP\n",
    "from typing import Dict, List, Optional"
   ]
  },
  {
   "cell_type": "code",
   "execution_count": 4,
   "id": "d803c290",
   "metadata": {},
   "outputs": [],
   "source": [
    "#The class for hiring constraints has the init method to initiliaze the constraint and satisfied to check the number\n",
    "#of peopleto the role specified in self.roles = self.tt_hired\n",
    "class HireConstraint(Constraint[str, str]):\n",
    "    def __init__(self, roles: List[str], tt_hired: int) -> None:\n",
    "        super().__init__(roles)\n",
    "        self.roles = roles\n",
    "        self.tt_hired = tt_hired\n",
    "        \n",
    "    def satisfied(self, assignment: Dict[str, str]) -> bool:\n",
    "        hired_count = sum(1 for role in self.roles if assignment.get(role))\n",
    "        return hired_count == self.tt_hired"
   ]
  },
  {
   "cell_type": "code",
   "execution_count": 10,
   "id": "66a523cf",
   "metadata": {},
   "outputs": [
    {
     "name": "stdout",
     "output_type": "stream",
     "text": [
      "{'Py': 'Peter', 'Ai': 'Peter', 'Wb': 'Mary', 'Db': 'Jane', 'Se': 'Jim'}\n"
     ]
    }
   ],
   "source": [
    "#Variables as roles and domains assigned to each job role\n",
    "if __name__ == \"__main__\":\n",
    "    variables: List[str] = [\"Py\", \"Ai\", \"Wb\", \"Db\", \"Se\"]\n",
    "    domains: Dict[str, List[str]] = {} \n",
    "    domains[\"Py\"] = [\"Peter\", \"Jane\", \"Bruce\"]\n",
    "    domains[\"Ai\"] = [\"Peter\", \"Jim\", \"Anita\"]\n",
    "    domains[\"Wb\"] = [\"Mary\", \"Anita\"]\n",
    "    domains[\"Db\"] = [\"Jane\"]\n",
    "    domains[\"Se\"] = [\"Jim\", \"Bruce\", \"Mary\"]\n",
    "\n",
    "    #Py ∈ {Peter, Jane, Bruce}\n",
    "    #Ai ∈ {Peter, Jim, Anita}\n",
    "    #Wb ∈ {Mary, Anita}\n",
    "    #Db ∈ {Jane}\n",
    "    #Se ∈ {Jim, Bruce, Mary}\n",
    "    #print(domains)\n",
    "    \n",
    "    #CSP Creation with the variables and domains\n",
    "    csp: CSP[str, str] = CSP(variables, domains)\n",
    "    \n",
    "    #Listing the constraints\n",
    "    \n",
    "    csp.add_constraint(HireConstraint([\"Py\"], 1))\n",
    "    csp.add_constraint(HireConstraint([\"Ai\"], 1))\n",
    "    csp.add_constraint(HireConstraint([\"Py\"], 1))\n",
    "    csp.add_constraint(HireConstraint([\"Py\"], 1))\n",
    "    csp.add_constraint(HireConstraint([\"Py\"], 1))\n",
    "    \n",
    "    #Applying backtracking search algorithm to find a solution satisfying the constraints\n",
    "    \n",
    "    solution: Optional[Dict[str, str]] = csp.backtracking_search()\n",
    "        \n",
    "    #Printing solution if exists\n",
    "    if solution is None:\n",
    "        print(\"No solution\")\n",
    "    else:\n",
    "        print(solution)"
   ]
  },
  {
   "cell_type": "code",
   "execution_count": null,
   "id": "5762db47",
   "metadata": {},
   "outputs": [],
   "source": []
  }
 ],
 "metadata": {
  "kernelspec": {
   "display_name": "Python 3 (ipykernel)",
   "language": "python",
   "name": "python3"
  },
  "language_info": {
   "codemirror_mode": {
    "name": "ipython",
    "version": 3
   },
   "file_extension": ".py",
   "mimetype": "text/x-python",
   "name": "python",
   "nbconvert_exporter": "python",
   "pygments_lexer": "ipython3",
   "version": "3.9.12"
  }
 },
 "nbformat": 4,
 "nbformat_minor": 5
}
