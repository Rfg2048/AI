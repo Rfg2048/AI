{
 "cells": [
  {
   "cell_type": "code",
   "execution_count": 1,
   "id": "13e0632e",
   "metadata": {},
   "outputs": [
    {
     "name": "stdout",
     "output_type": "stream",
     "text": [
      "Collecting python-constraint\n",
      "  Downloading python-constraint-1.4.0.tar.bz2 (18 kB)\n",
      "Building wheels for collected packages: python-constraint\n",
      "  Building wheel for python-constraint (setup.py): started\n",
      "  Building wheel for python-constraint (setup.py): finished with status 'done'\n",
      "  Created wheel for python-constraint: filename=python_constraint-1.4.0-py2.py3-none-any.whl size=24081 sha256=390de7c973b706d1a8ff30b2e927da2c31fc53da5afb73a6f8bb3dac7414d0bf\n",
      "  Stored in directory: c:\\users\\cexuser\\appdata\\local\\pip\\cache\\wheels\\51\\36\\1f\\c2ccb8dc4eba38c5215636d4ae2c480b32069cab0376bcc1a4\n",
      "Successfully built python-constraint\n",
      "Installing collected packages: python-constraint\n",
      "Successfully installed python-constraint-1.4.0\n",
      "Note: you may need to restart the kernel to use updated packages.\n"
     ]
    }
   ],
   "source": [
    "pip install python-constraint"
   ]
  },
  {
   "cell_type": "code",
   "execution_count": 3,
   "id": "ce89ea11",
   "metadata": {},
   "outputs": [
    {
     "ename": "NameError",
     "evalue": "name 'contraint' is not defined",
     "output_type": "error",
     "traceback": [
      "\u001b[1;31m---------------------------------------------------------------------------\u001b[0m",
      "\u001b[1;31mNameError\u001b[0m                                 Traceback (most recent call last)",
      "Input \u001b[1;32mIn [3]\u001b[0m, in \u001b[0;36m<cell line: 2>\u001b[1;34m()\u001b[0m\n\u001b[0;32m      1\u001b[0m \u001b[38;5;28;01mimport\u001b[39;00m \u001b[38;5;21;01mconstraint\u001b[39;00m\n\u001b[1;32m----> 2\u001b[0m problem \u001b[38;5;241m=\u001b[39m \u001b[43mcontraint\u001b[49m\u001b[38;5;241m.\u001b[39mProblem()\n\u001b[0;32m      4\u001b[0m problem\u001b[38;5;241m.\u001b[39maddVariable(\u001b[38;5;124m'\u001b[39m\u001b[38;5;124mx\u001b[39m\u001b[38;5;124m'\u001b[39m, [\u001b[38;5;241m1\u001b[39m,\u001b[38;5;241m2\u001b[39m,\u001b[38;5;241m3\u001b[39m])\n\u001b[0;32m      5\u001b[0m problem\u001b[38;5;241m.\u001b[39maddVariable(\u001b[38;5;124m'\u001b[39m\u001b[38;5;124my\u001b[39m\u001b[38;5;124m'\u001b[39m, \u001b[38;5;28mrange\u001b[39m(\u001b[38;5;241m10\u001b[39m))\n",
      "\u001b[1;31mNameError\u001b[0m: name 'contraint' is not defined"
     ]
    }
   ],
   "source": [
    "import constraint\n",
    "problem = constraint.Problem()\n",
    "\n",
    "problem.addVariable('x', [1,2,3])\n",
    "problem.addVariable('y', range(10))\n",
    "\n",
    "def our_constraint(x, y):\n",
    "    if x+y >= 5:\n",
    "        return True\n",
    "    \n",
    "problem.addConstraint (our_constraint, ['x','y'])\n",
    "\n",
    "solutions = problem.getSolutions()\n",
    "\n",
    "for solution in solutions:\n",
    "    print(solution)\n",
    "\n",
    "length - lent"
   ]
  },
  {
   "cell_type": "code",
   "execution_count": null,
   "id": "f9c8c2e8",
   "metadata": {},
   "outputs": [],
   "source": []
  }
 ],
 "metadata": {
  "kernelspec": {
   "display_name": "Python 3 (ipykernel)",
   "language": "python",
   "name": "python3"
  },
  "language_info": {
   "codemirror_mode": {
    "name": "ipython",
    "version": 3
   },
   "file_extension": ".py",
   "mimetype": "text/x-python",
   "name": "python",
   "nbconvert_exporter": "python",
   "pygments_lexer": "ipython3",
   "version": "3.9.12"
  }
 },
 "nbformat": 4,
 "nbformat_minor": 5
}
