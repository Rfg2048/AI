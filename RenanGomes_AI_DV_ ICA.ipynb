{
 "cells": [
  {
   "cell_type": "code",
   "execution_count": 1,
   "id": "05cb78f9",
   "metadata": {},
   "outputs": [],
   "source": [
    "import pandas as pd"
   ]
  },
  {
   "cell_type": "markdown",
   "id": "174ae844",
   "metadata": {},
   "source": [
    "Ciara is looking for employees for her new company, which develops and provides AI based logistic software\n",
    "for retailers. Ciara has determined that she needs:\n",
    "\n",
    "2 Python Programmers, 2 AI Engineers, 1 Web Designer, 1 Database Admin, and 1 Systems Engineer.\n",
    "Assume that if a person has two abilities, he or she can take on two roles in the company.\n",
    "\n",
    "So Ciara narrowed down her selections to the following people:\n",
    "\n",
    "Name Abilities\n",
    "\n",
    "Peter Python and AI\n",
    "\n",
    "Juan Web and AI\n",
    "\n",
    "Jim AI and Systems\n",
    "\n",
    "Jane Python and Database\n",
    "\n",
    "Mary Web and Systems\n",
    "\n",
    "Bruce Systems and Python\n",
    "\n",
    "Anita Web and AI"
   ]
  },
  {
   "cell_type": "markdown",
   "id": "11ec5d12",
   "metadata": {},
   "source": [
    "Scenario 1:\n",
    "Suppose Ciara knows Python, and only has funds to hire three more people."
   ]
  },
  {
   "cell_type": "markdown",
   "id": "29d79fb6",
   "metadata": {},
   "source": [
    "Scenario 2:\n",
    "\n",
    "Suppose Ciara and Juan become partners, with the additional funds they can now employ four more people\n",
    "but must employ another AI Engineer, so they need 2 Python Programmers, 3 AI Engineers, 1 Web Designer,\n",
    "1 Database Admin, and 1 Systems Engineer.\n",
    "\n",
    "1. Using any CSP (Constraint Satisfaction Problem) framework (using variables, value domains, and\n",
    "constraints), discover if the above problems can be solved and if so detail who would be in\n",
    "hired.[0-30]\n",
    "\n",
    "2. Discuss in detail how using Constraint Satisfaction finds an answer or finds no solution to the\n",
    "problems in Tasks for Artificial Intelligence part 1. How does this differ from standard algorithmic\n",
    "solutions? .[0-30]\n",
    "\n",
    "3. These problems be solved using several other algorithm’s we have studied in the module. Choose\n",
    "one of these algorithms and discuss your answer in detail including a proof of your hypothesis in\n",
    "code .[0-30]\n",
    "\n",
    "4. Support your arguments with citations/references in Harvard Style .[0-10]"
   ]
  },
  {
   "cell_type": "code",
   "execution_count": null,
   "id": "b2022ff2",
   "metadata": {},
   "outputs": [],
   "source": []
  }
 ],
 "metadata": {
  "kernelspec": {
   "display_name": "Python 3 (ipykernel)",
   "language": "python",
   "name": "python3"
  },
  "language_info": {
   "codemirror_mode": {
    "name": "ipython",
    "version": 3
   },
   "file_extension": ".py",
   "mimetype": "text/x-python",
   "name": "python",
   "nbconvert_exporter": "python",
   "pygments_lexer": "ipython3",
   "version": "3.9.12"
  }
 },
 "nbformat": 4,
 "nbformat_minor": 5
}
