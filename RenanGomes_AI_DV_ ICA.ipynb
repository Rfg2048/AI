{
 "cells": [
  {
   "cell_type": "markdown",
   "id": "8b910323",
   "metadata": {},
   "source": [
    "Ciara is looking for employees for her new company, which develops and provides AI based logistic software\n",
    "for retailers. Ciara has determined that she needs:\n",
    "\n",
    "2 Python Programmers, 2 AI Engineers, 1 Web Designer, 1 Database Admin, and 1 Systems Engineer.\n",
    "Assume that if a person has two abilities, he or she can take on two roles in the company.\n",
    "\n",
    "So Ciara narrowed down her selections to the following people:\n",
    "\n",
    "Name Abilities\n",
    "\n",
    "Peter Python and AI\n",
    "\n",
    "Juan Web and AI\n",
    "\n",
    "Jim AI and Systems\n",
    "\n",
    "Jane Python and Database\n",
    "\n",
    "Mary Web and Systems\n",
    "\n",
    "Bruce Systems and Python\n",
    "\n",
    "Anita Web and AI"
   ]
  },
  {
   "cell_type": "markdown",
   "id": "56ec52d5",
   "metadata": {},
   "source": [
    "Scenario 1:\n",
    "Suppose Ciara knows Python, and only has funds to hire three more people."
   ]
  },
  {
   "cell_type": "markdown",
   "id": "2a721531",
   "metadata": {},
   "source": [
    "Scenario 2:\n",
    "\n",
    "Suppose Ciara and Juan become partners, with the additional funds they can now employ four more people\n",
    "but must employ another AI Engineer, so they need 2 Python Programmers, 3 AI Engineers, 1 Web Designer,\n",
    "1 Database Admin, and 1 Systems Engineer.\n",
    "\n",
    "1. Using any CSP (Constraint Satisfaction Problem) framework (using variables, value domains, and\n",
    "constraints), discover if the above problems can be solved and if so detail who would be in\n",
    "hired.[0-30]\n",
    "\n",
    "2. Discuss in detail how using Constraint Satisfaction finds an answer or finds no solution to the\n",
    "problems in Tasks for Artificial Intelligence part 1. How does this differ from standard algorithmic\n",
    "solutions? .[0-30]\n",
    "\n",
    "3. These problems be solved using several other algorithm’s we have studied in the module. Choose\n",
    "one of these algorithms and discuss your answer in detail including a proof of your hypothesis in\n",
    "code .[0-30]\n",
    "\n",
    "4. Support your arguments with citations/references in Harvard Style .[0-10]"
   ]
  },
  {
   "cell_type": "code",
   "execution_count": 2,
   "id": "602571c5",
   "metadata": {},
   "outputs": [],
   "source": [
    "import pandas as pd\n",
    "import constraint"
   ]
  },
  {
   "cell_type": "code",
   "execution_count": 3,
   "id": "f2921fa4",
   "metadata": {},
   "outputs": [],
   "source": [
    "problem = constraint.Problem()\n",
    "\n",
    "problem.addVariable('x', [1,2,3])\n",
    "problem.addVariable('y', range(10))\n",
    "\n",
    "def our_constraint(x, y):\n",
    "    if x+y >= 5:\n",
    "        return True\n",
    "    \n",
    "problem.addConstraint(our_constraint, ['x', 'y'])\n",
    "\n",
    "solutions = problem.getSolutions()"
   ]
  },
  {
   "cell_type": "code",
   "execution_count": 4,
   "id": "28f56f6d",
   "metadata": {},
   "outputs": [
    {
     "name": "stdout",
     "output_type": "stream",
     "text": [
      "[{'x': 3, 'y': 9}, {'x': 3, 'y': 8}, {'x': 3, 'y': 7}, {'x': 3, 'y': 6}, {'x': 3, 'y': 5}, {'x': 3, 'y': 4}, {'x': 3, 'y': 3}, {'x': 3, 'y': 2}, {'x': 2, 'y': 9}, {'x': 2, 'y': 8}, {'x': 2, 'y': 7}, {'x': 2, 'y': 6}, {'x': 2, 'y': 5}, {'x': 2, 'y': 4}, {'x': 2, 'y': 3}, {'x': 1, 'y': 9}, {'x': 1, 'y': 8}, {'x': 1, 'y': 7}, {'x': 1, 'y': 6}, {'x': 1, 'y': 5}, {'x': 1, 'y': 4}]\n"
     ]
    }
   ],
   "source": []
  },
  {
   "cell_type": "code",
   "execution_count": 5,
   "id": "19d1bdd9",
   "metadata": {},
   "outputs": [
    {
     "name": "stdout",
     "output_type": "stream",
     "text": [
      "{'x': 3, 'y': 9}\n",
      "{'x': 3, 'y': 8}\n",
      "{'x': 3, 'y': 7}\n",
      "{'x': 3, 'y': 6}\n",
      "{'x': 3, 'y': 5}\n",
      "{'x': 3, 'y': 4}\n",
      "{'x': 3, 'y': 3}\n",
      "{'x': 3, 'y': 2}\n",
      "{'x': 2, 'y': 9}\n",
      "{'x': 2, 'y': 8}\n",
      "{'x': 2, 'y': 7}\n",
      "{'x': 2, 'y': 6}\n",
      "{'x': 2, 'y': 5}\n",
      "{'x': 2, 'y': 4}\n",
      "{'x': 2, 'y': 3}\n",
      "{'x': 1, 'y': 9}\n",
      "{'x': 1, 'y': 8}\n",
      "{'x': 1, 'y': 7}\n",
      "{'x': 1, 'y': 6}\n",
      "{'x': 1, 'y': 5}\n",
      "{'x': 1, 'y': 4}\n"
     ]
    }
   ],
   "source": [
    "for solution in solutions:\n",
    "    print(solution)"
   ]
  },
  {
   "cell_type": "code",
   "execution_count": null,
   "id": "de45292f",
   "metadata": {},
   "outputs": [],
   "source": []
  }
 ],
 "metadata": {
  "kernelspec": {
   "display_name": "Python 3 (ipykernel)",
   "language": "python",
   "name": "python3"
  },
  "language_info": {
   "codemirror_mode": {
    "name": "ipython",
    "version": 3
   },
   "file_extension": ".py",
   "mimetype": "text/x-python",
   "name": "python",
   "nbconvert_exporter": "python",
   "pygments_lexer": "ipython3",
   "version": "3.9.12"
  }
 },
 "nbformat": 4,
 "nbformat_minor": 5
}
